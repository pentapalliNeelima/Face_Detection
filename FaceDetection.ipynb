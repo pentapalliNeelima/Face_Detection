{
 "cells": [
  {
   "cell_type": "markdown",
   "id": "eb956582",
   "metadata": {},
   "source": [
    "# Real-Time Face Detection Using OpenCV and dlib"
   ]
  },
  {
   "cell_type": "markdown",
   "id": "17e13a20",
   "metadata": {},
   "source": [
    "This project demonstrates how to perform real-time face detection using a webcam, OpenCV for image processing, and dlib for face detection. The code captures video frames from your computer's default camera, converts them to grayscale, and then detects faces within each frame. Detected faces are highlighted with rectangles and labeled sequentially.\n",
    "\n",
    "Face detection is a fundamental task in computer vision, with applications ranging from security systems to interactive user interfaces. By leveraging the power of OpenCV and dlib, we can efficiently process video streams and identify faces in real-time"
   ]
  },
  {
   "cell_type": "markdown",
   "id": "740781fd",
   "metadata": {},
   "source": [
    "<img src=\"image.jpg\" width=\"600\" height=\"600\">"
   ]
  },
  {
   "cell_type": "markdown",
   "id": "009fd4db",
   "metadata": {},
   "source": [
    "# Introduction"
   ]
  },
  {
   "cell_type": "markdown",
   "id": "ecf36434",
   "metadata": {},
   "source": [
    "**OpenCV** (Open Source Computer Vision Library) is an open-source computer vision and machine learning software library. OpenCV was built to provide a common infrastructure for computer vision applications and to accelerate the use of machine perception in commercial products. With more than 2500 optimized algorithms, OpenCV can be used for a variety of tasks, including face detection, object identification, and motion tracking."
   ]
  },
  {
   "cell_type": "markdown",
   "id": "3ba32ebd",
   "metadata": {},
   "source": [
    "**dlib** is a modern C++ toolkit containing machine learning algorithms and tools for creating complex software in C++ to solve real-world problems. It is widely used for its robust facial landmark detection and object detection capabilities. The library is known for its accuracy and performance in detecting facial features, making it ideal for applications involving facial recognition and analysis."
   ]
  },
  {
   "cell_type": "markdown",
   "id": "d0bf9ab8",
   "metadata": {},
   "source": [
    "# Python code for Face Detection"
   ]
  },
  {
   "cell_type": "markdown",
   "id": "bfef2e2d",
   "metadata": {},
   "source": [
    "## Import Required Libraries\n",
    "The code starts by importing the necessary libraries: cv2 for image processing, numpy for numerical operations, and dlib for face detection."
   ]
  },
  {
   "cell_type": "code",
   "execution_count": 5,
   "id": "69626d0c",
   "metadata": {},
   "outputs": [],
   "source": [
    "import cv2\n",
    "import numpy as np\n",
    "import dlib\n"
   ]
  },
  {
   "cell_type": "markdown",
   "id": "488788d3",
   "metadata": {},
   "source": [
    "## Initialize Video Capture\n",
    " initialize the video capture object cap to access the default camera of the computer (indexed by 0)"
   ]
  },
  {
   "cell_type": "code",
   "execution_count": 6,
   "id": "48d294d6",
   "metadata": {},
   "outputs": [],
   "source": [
    "cap = cv2.VideoCapture(0)\n"
   ]
  },
  {
   "cell_type": "markdown",
   "id": "4c045562",
   "metadata": {},
   "source": [
    "## Initialize Face Detector\n",
    "\n",
    "The detector object is created using dlib's frontal face detector, which will be used to detect faces in the video frames."
   ]
  },
  {
   "cell_type": "code",
   "execution_count": 7,
   "id": "b67c227c",
   "metadata": {},
   "outputs": [],
   "source": [
    "detector = dlib.get_frontal_face_detector()\n"
   ]
  },
  {
   "cell_type": "markdown",
   "id": "a13aba81",
   "metadata": {},
   "source": [
    "## Capture Frames Continuously"
   ]
  },
  {
   "cell_type": "markdown",
   "id": "2e52f6da",
   "metadata": {},
   "source": [
    "Frames are continuously captured from the webcam using the cap.read() method, and each frame is flipped horizontally with cv2.flip(frame, 1) for a mirror effect. The captured frame is then converted to grayscale using cv2.cvtColor(frame, cv2.COLOR_BGR2GRAY), simplifying the face detection process. The grayscale frame is processed by the dlib face detector, which returns the coordinates of any detected faces stored in the faces variable. For each detected face, a rectangle is drawn around it using cv2.rectangle(), with coordinates obtained from the face detection results. Additionally, each face is sequentially labeled using cv2.putText(). The processed frame, now containing rectangles and labels, is displayed in a window via cv2.imshow(). The loop continues to capture, process, and display frames in real-time until the 'q' key is pressed, which exits the loop and terminates the program."
   ]
  },
  {
   "cell_type": "markdown",
   "id": "fa0e3e37",
   "metadata": {},
   "source": [
    "## Release Capture and Destroy Windows\n",
    "\n",
    "After exiting the loop, the video capture object is released and all OpenCV windows are closed to free up resources.\n",
    "\n"
   ]
  },
  {
   "cell_type": "code",
   "execution_count": 8,
   "id": "f0973863",
   "metadata": {},
   "outputs": [
    {
     "name": "stdout",
     "output_type": "stream",
     "text": [
      "[(194, 333) (373, 512)] 1\n",
      "[(194, 333) (373, 512)] 1\n",
      "[(194, 333) (373, 512)] 1\n",
      "[(194, 333) (373, 512)] 1\n",
      "[(194, 333) (373, 512)] 1\n",
      "[(194, 333) (373, 512)] 1\n",
      "[(194, 333) (373, 512)] 1\n",
      "[(194, 333) (373, 512)] 1\n",
      "[(194, 333) (373, 512)] 1\n",
      "[(194, 333) (373, 512)] 1\n",
      "[(194, 333) (373, 512)] 1\n",
      "[(194, 333) (373, 512)] 1\n",
      "[(194, 333) (373, 512)] 1\n",
      "[(194, 333) (373, 512)] 1\n",
      "[(194, 333) (373, 512)] 1\n",
      "[(194, 333) (373, 512)] 1\n",
      "[(194, 333) (373, 512)] 1\n",
      "[(194, 333) (373, 512)] 1\n",
      "[(194, 333) (373, 512)] 1\n",
      "[(194, 333) (373, 512)] 1\n",
      "[(194, 333) (373, 512)] 1\n",
      "[(194, 333) (373, 512)] 1\n",
      "[(194, 333) (373, 512)] 1\n",
      "[(194, 333) (373, 512)] 1\n",
      "[(194, 333) (373, 512)] 1\n",
      "[(194, 333) (373, 512)] 1\n",
      "[(194, 333) (373, 512)] 1\n",
      "[(194, 333) (373, 512)] 1\n",
      "[(194, 333) (373, 512)] 1\n",
      "[(194, 333) (373, 512)] 1\n",
      "[(194, 333) (373, 512)] 1\n",
      "[(194, 333) (373, 512)] 1\n",
      "[(194, 333) (373, 512)] 1\n",
      "[(194, 333) (373, 512)] 1\n",
      "[(194, 333) (373, 512)] 1\n",
      "[(194, 333) (373, 512)] 1\n",
      "[(194, 333) (373, 512)] 1\n",
      "[(194, 333) (373, 512)] 1\n",
      "[(194, 333) (373, 512)] 1\n",
      "[(185, 305) (400, 520)] 1\n",
      "[(185, 305) (400, 520)] 1\n",
      "[(185, 305) (400, 520)] 1\n",
      "[(185, 305) (400, 520)] 1\n",
      "[(185, 305) (400, 520)] 1\n",
      "[(185, 305) (400, 520)] 1\n",
      "[(185, 305) (400, 520)] 1\n",
      "[(185, 305) (400, 520)] 1\n",
      "[(185, 305) (400, 520)] 1\n",
      "[(185, 305) (400, 520)] 1\n",
      "[(185, 305) (400, 520)] 1\n",
      "[(185, 305) (400, 520)] 1\n",
      "[(185, 305) (400, 520)] 1\n",
      "[(185, 305) (400, 520)] 1\n",
      "[(185, 305) (400, 520)] 1\n",
      "[(185, 305) (400, 520)] 1\n",
      "[(185, 305) (400, 520)] 1\n",
      "[(185, 305) (400, 520)] 1\n",
      "[(185, 305) (400, 520)] 1\n",
      "[(194, 333) (373, 512)] 1\n",
      "[(194, 333) (373, 512)] 1\n",
      "[(194, 333) (373, 512)] 1\n",
      "[(194, 333) (373, 512)] 1\n",
      "[(194, 333) (373, 512)] 1\n",
      "[(194, 333) (373, 512)] 1\n",
      "[(185, 305) (400, 520)] 1\n",
      "[(194, 333) (373, 512)] 1\n",
      "[(194, 333) (373, 512)] 1\n",
      "[(185, 305) (400, 520)] 1\n",
      "[(214, 333) (393, 512)] 1\n",
      "[(214, 333) (393, 512)] 1\n",
      "[(214, 333) (393, 512)] 1\n",
      "[(214, 333) (393, 512)] 1\n",
      "[(214, 333) (393, 512)] 1\n",
      "[(214, 333) (393, 512)] 1\n",
      "[(214, 333) (393, 512)] 1\n",
      "[(214, 333) (393, 512)] 1\n",
      "[(214, 333) (393, 512)] 1\n",
      "[(214, 333) (393, 512)] 1\n",
      "[(214, 333) (393, 512)] 1\n",
      "[(214, 333) (393, 512)] 1\n",
      "[(214, 333) (393, 512)] 1\n",
      "[(214, 333) (393, 512)] 1\n",
      "[(214, 333) (393, 512)] 1\n",
      "[(214, 333) (393, 512)] 1\n",
      "[(214, 333) (393, 512)] 1\n",
      "[(214, 333) (393, 512)] 1\n",
      "[(214, 333) (393, 512)] 1\n",
      "[(214, 333) (393, 512)] 1\n",
      "[(214, 333) (393, 512)] 1\n",
      "[(214, 333) (393, 512)] 1\n",
      "[(214, 333) (393, 512)] 1\n",
      "[(185, 305) (400, 520)] 1\n",
      "[(185, 305) (400, 520)] 1\n",
      "[(185, 305) (400, 520)] 1\n",
      "[(185, 305) (400, 520)] 1\n",
      "[(185, 305) (400, 520)] 1\n",
      "[(185, 305) (400, 520)] 1\n",
      "[(185, 305) (400, 520)] 1\n",
      "[(185, 305) (400, 520)] 1\n",
      "[(185, 305) (400, 520)] 1\n",
      "[(185, 305) (400, 520)] 1\n",
      "[(194, 313) (373, 492)] 1\n",
      "[(194, 313) (373, 492)] 1\n",
      "[(194, 313) (373, 492)] 1\n",
      "[(161, 281) (376, 496)] 1\n",
      "[(161, 281) (376, 496)] 1\n",
      "[(161, 281) (376, 496)] 1\n",
      "[(161, 281) (376, 496)] 1\n",
      "[(161, 257) (376, 472)] 1\n",
      "[(161, 257) (376, 472)] 1\n",
      "[(161, 233) (376, 448)] 1\n",
      "[(161, 233) (376, 448)] 1\n",
      "[(161, 233) (376, 448)] 1\n",
      "[(161, 209) (376, 424)] 1\n",
      "[(161, 209) (376, 424)] 1\n",
      "[(161, 209) (376, 424)] 1\n",
      "[(161, 209) (376, 424)] 1\n",
      "[(161, 209) (376, 424)] 1\n",
      "[(161, 209) (376, 424)] 1\n",
      "[(161, 209) (376, 424)] 1\n",
      "[(161, 209) (376, 424)] 1\n",
      "[(161, 209) (376, 424)] 1\n",
      "[(161, 209) (376, 424)] 1\n",
      "[(161, 209) (376, 424)] 1\n",
      "[(161, 209) (376, 424)] 1\n",
      "[(161, 209) (376, 424)] 1\n",
      "[(161, 209) (376, 424)] 1\n",
      "[(161, 209) (376, 424)] 1\n",
      "[(161, 209) (376, 424)] 1\n",
      "[(161, 209) (376, 424)] 1\n",
      "[(161, 209) (376, 424)] 1\n",
      "[(161, 209) (376, 424)] 1\n",
      "[(161, 209) (376, 424)] 1\n",
      "[(185, 209) (400, 424)] 1\n",
      "[(222, 194) (480, 452)] 1\n",
      "[(233, 281) (448, 496)] 1\n",
      "[(209, 281) (424, 496)] 1\n",
      "[(209, 281) (424, 496)] 1\n",
      "[(165, 251) (423, 509)] 1\n",
      "[(185, 257) (400, 472)] 1\n",
      "[(185, 257) (400, 472)] 1\n",
      "[(185, 257) (400, 472)] 1\n",
      "[(209, 257) (424, 472)] 1\n",
      "[(209, 257) (424, 472)] 1\n",
      "[(209, 257) (424, 472)] 1\n",
      "[(209, 257) (424, 472)] 1\n",
      "[(209, 257) (424, 472)] 1\n",
      "[(209, 257) (424, 472)] 1\n",
      "[(209, 257) (424, 472)] 1\n",
      "[(209, 257) (424, 472)] 1\n",
      "[(209, 257) (424, 472)] 1\n",
      "[(209, 257) (424, 472)] 1\n",
      "[(209, 257) (424, 472)] 1\n",
      "[(209, 257) (424, 472)] 1\n"
     ]
    }
   ],
   "source": [
    "while True: \n",
    "    # Capture frame-by-frame \n",
    "    ret, frame = cap.read() \n",
    "    frame = cv2.flip(frame, 1) \n",
    "\n",
    "    # RGB to grayscale \n",
    "    gray = cv2.cvtColor(frame, cv2.COLOR_BGR2GRAY) \n",
    "    faces = detector(gray) \n",
    "\n",
    "    # Iterator to count faces \n",
    "    i = 0\n",
    "    for face in faces: \n",
    "        # Get the coordinates of faces \n",
    "        x, y = face.left(), face.top() \n",
    "        x1, y1 = face.right(), face.bottom() \n",
    "        cv2.rectangle(frame, (x, y), (x1, y1), (0, 255, 0), 2) \n",
    "\n",
    "        # Increment iterator for each face in faces \n",
    "        i = i + 1\n",
    "\n",
    "        # Display the box and faces \n",
    "        cv2.putText(frame, 'face num'+str(i), (x-10, y-10), \n",
    "                    cv2.FONT_HERSHEY_SIMPLEX, 0.7, (0, 0, 255), 2) \n",
    "        print(face, i) \n",
    "\n",
    "    # Display the resulting frame \n",
    "    cv2.imshow('frame', frame) \n",
    "\n",
    "    # This command let's us quit with the \"q\" button on a keyboard. \n",
    "    if cv2.waitKey(1) & 0xFF == ord('q'): \n",
    "        break\n",
    "\n",
    "cap.release() \n",
    "cv2.destroyAllWindows() \n",
    "\n"
   ]
  }
 ],
 "metadata": {
  "kernelspec": {
   "display_name": "Python 3 (ipykernel)",
   "language": "python",
   "name": "python3"
  },
  "language_info": {
   "codemirror_mode": {
    "name": "ipython",
    "version": 3
   },
   "file_extension": ".py",
   "mimetype": "text/x-python",
   "name": "python",
   "nbconvert_exporter": "python",
   "pygments_lexer": "ipython3",
   "version": "3.10.9"
  }
 },
 "nbformat": 4,
 "nbformat_minor": 5
}
